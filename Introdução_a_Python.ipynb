{
  "nbformat": 4,
  "nbformat_minor": 0,
  "metadata": {
    "colab": {
      "provenance": [],
      "toc_visible": true,
      "authorship_tag": "ABX9TyObT9GGqiVp+ZLZiZATkmZD",
      "include_colab_link": true
    },
    "kernelspec": {
      "name": "python3",
      "display_name": "Python 3"
    },
    "language_info": {
      "name": "python"
    }
  },
  "cells": [
    {
      "cell_type": "markdown",
      "metadata": {
        "id": "view-in-github",
        "colab_type": "text"
      },
      "source": [
        "<a href=\"https://colab.research.google.com/github/Copenhagen1822/introdu-ao-ao-phyton/blob/main/Introdu%C3%A7%C3%A3o_a_Python.ipynb\" target=\"_parent\"><img src=\"https://colab.research.google.com/assets/colab-badge.svg\" alt=\"Open In Colab\"/></a>"
      ]
    },
    {
      "cell_type": "markdown",
      "source": [
        "## Aula 1"
      ],
      "metadata": {
        "id": "gse1tiizKQ2r"
      }
    },
    {
      "cell_type": "code",
      "source": [],
      "metadata": {
        "id": "dLt4CHE1IFmq"
      },
      "execution_count": null,
      "outputs": []
    },
    {
      "cell_type": "code",
      "execution_count": null,
      "metadata": {
        "colab": {
          "base_uri": "https://localhost:8080/"
        },
        "id": "7bl-GkGeG9J7",
        "outputId": "a50fb82d-10a2-4f49-dc05-3cf3c4daa06b"
      },
      "outputs": [
        {
          "output_type": "stream",
          "name": "stdout",
          "text": [
            "I Competição de Programação da Start\n"
          ]
        }
      ],
      "source": [
        "print (\"I Competição de Programação da Start\")"
      ]
    },
    {
      "cell_type": "code",
      "source": [
        "ano = \"II\"\n",
        "\n",
        "print(ano, \"Competição de Programação da Start\")"
      ],
      "metadata": {
        "colab": {
          "base_uri": "https://localhost:8080/"
        },
        "id": "4JshziM0IR5B",
        "outputId": "2072a269-f371-4f2c-8340-af4e8d799818"
      },
      "execution_count": null,
      "outputs": [
        {
          "output_type": "stream",
          "name": "stdout",
          "text": [
            "II Competição de Programação da Start\n"
          ]
        }
      ]
    },
    {
      "cell_type": "code",
      "source": [
        "print(f\"{ano} Competição de Programação da Start\")"
      ],
      "metadata": {
        "colab": {
          "base_uri": "https://localhost:8080/"
        },
        "id": "qpbh2nFhI689",
        "outputId": "2b2b7810-4a22-402a-a05d-12265293b7c3"
      },
      "execution_count": null,
      "outputs": [
        {
          "output_type": "stream",
          "name": "stdout",
          "text": [
            "II Competição de Programação da Start\n"
          ]
        }
      ]
    },
    {
      "cell_type": "markdown",
      "source": [
        "## Aula 2\n"
      ],
      "metadata": {
        "id": "kiSp5WZ-KZhb"
      }
    },
    {
      "cell_type": "markdown",
      "source": [
        "Uma escola está promovendo uma campanha de incentivo à leitura, em que cada estudante recebe pontos ao concluir livros. Esses pontos podem ser trocados por diferentes prêmios da escola, e as categorias de livros têm valores diferntes de pontos:\n",
        "\n",
        "Ficção: 8 pontos;\n",
        "Não ficção: 8 ponto;\n",
        "Infantis: 6 pontos.\n",
        "Rodrigo, um estudante dessa escola, leu um livro de cada categoria e, agora, quer saber quantos pontos acumulou com sua leitura. Para isso, você deve criar um programa em Python que tenha as seguintes características:\n",
        "\n",
        "Consiga armazenar os pontos de cada categoria de livro;\n",
        "Calcule os pontos de Rodrigo;\n",
        "Apresente na tela os pontos de Rodrigo."
      ],
      "metadata": {
        "id": "-1QQcVXGKuGB"
      }
    },
    {
      "cell_type": "code",
      "source": [
        "Livro_ficcao = 10\n",
        "Livro_nficcao = 8\n",
        "Livro_infantil = 6\n",
        "\n",
        "pontos_rodrigo = Livro_ficcao + Livro_nficcao + Livro_infantil\n",
        "\n",
        "print(f\"Os pontos totais do Rodrigo são: {pontos_rodrigo}\")"
      ],
      "metadata": {
        "colab": {
          "base_uri": "https://localhost:8080/"
        },
        "id": "07jqAseTLAdK",
        "outputId": "7a1b5bc7-7e07-4781-8dd1-61e596a84594"
      },
      "execution_count": null,
      "outputs": [
        {
          "output_type": "stream",
          "name": "stdout",
          "text": [
            "Os pontos totais do Rodrigo são: 24\n"
          ]
        }
      ]
    },
    {
      "cell_type": "markdown",
      "source": [
        "Ana, outra estudante dessa escola, participou da campanha e leu dois livros de ficção e cinco livros infantis. Para resolvê-lo, responda as seguintes perguntas programando em Python:\n",
        "\n",
        "Quantos pontos Ana acumulou ao final da leitura?\n",
        "Qual é o total de pontos acumulados por Rodrigo e Ana juntos?"
      ],
      "metadata": {
        "id": "t2bx4PH1M4AJ"
      }
    },
    {
      "cell_type": "code",
      "source": [
        "Livro_ficcao = 10\n",
        "Livro_infantil = 8\n",
        "\n",
        "pontos_ana = Livro_ficcao + Livro_infantil\n",
        "\n",
        "print(f\"Os pontos totais de Ana são: {pontos_ana}\")"
      ],
      "metadata": {
        "colab": {
          "base_uri": "https://localhost:8080/"
        },
        "id": "oz_Is-jMM_cY",
        "outputId": "f208f61f-9602-4aff-cbd2-1fda962c51a1"
      },
      "execution_count": null,
      "outputs": [
        {
          "output_type": "stream",
          "name": "stdout",
          "text": [
            "Os pontos totais de Ana são: 18\n"
          ]
        }
      ]
    },
    {
      "cell_type": "markdown",
      "source": [
        "## Aula 3"
      ],
      "metadata": {
        "id": "Gsdvqi2tNtKw"
      }
    },
    {
      "cell_type": "code",
      "source": [
        "total_figurinhas = int(input(\"Digite o total de figurinhas: \"))\n",
        "numero_amigos = int(input(\"Digite o número de amigos: \"))\n",
        "\n",
        "figurinhas_amigos = total_figurinhas // (numero_amigos + 2)\n",
        "\n",
        "figurinhas_joao = 2 * figurinhas_amigos\n",
        "\n",
        "print(f\"João recebeu {figurinhas_joao} figurinhas.\")"
      ],
      "metadata": {
        "colab": {
          "base_uri": "https://localhost:8080/"
        },
        "id": "897vDAJGNucz",
        "outputId": "fc1917b8-5efc-41f8-ef85-fc6052fa713d"
      },
      "execution_count": 1,
      "outputs": [
        {
          "output_type": "stream",
          "name": "stdout",
          "text": [
            "Digite o total de figurinhas: 100\n",
            "Digite o número de amigos: 8\n",
            "João recebeu 20 figurinhas.\n"
          ]
        }
      ]
    },
    {
      "cell_type": "markdown",
      "source": [
        "# Aula 4\n"
      ],
      "metadata": {
        "id": "rASBFPntn4eX"
      }
    },
    {
      "cell_type": "code",
      "source": [
        "numero_alunos = int(input(\"digite a quantidade de alunos: \"))\n",
        "numero_monitores = int(input(\"digite a quantidade de monitores: \"))\n",
        "resposta_positiva = \"pode ir\"\n",
        "resposta_negativa = \"nao pode ir\"\n",
        "\n",
        "if numero_alunos + numero_monitores <= 50:\n",
        "  print(resposta_positiva)\n",
        "else:\n",
        "  print(resposta_negativa)"
      ],
      "metadata": {
        "colab": {
          "base_uri": "https://localhost:8080/"
        },
        "id": "Y73novTqoLk3",
        "outputId": "0b7b4c04-5e2a-4809-8203-1490ea1d3d03"
      },
      "execution_count": 3,
      "outputs": [
        {
          "output_type": "stream",
          "name": "stdout",
          "text": [
            "digite a quantidade de alunos: 20\n",
            "digite a quantidade de monitores: 5\n",
            "pode ir\n"
          ]
        }
      ]
    }
  ]
}