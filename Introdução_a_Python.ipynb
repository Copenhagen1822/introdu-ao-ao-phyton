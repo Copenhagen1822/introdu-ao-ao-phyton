{
  "nbformat": 4,
  "nbformat_minor": 0,
  "metadata": {
    "colab": {
      "provenance": [],
      "authorship_tag": "ABX9TyN1h6LNISvodNMh3LabMWvK",
      "include_colab_link": true
    },
    "kernelspec": {
      "name": "python3",
      "display_name": "Python 3"
    },
    "language_info": {
      "name": "python"
    }
  },
  "cells": [
    {
      "cell_type": "markdown",
      "metadata": {
        "id": "view-in-github",
        "colab_type": "text"
      },
      "source": [
        "<a href=\"https://colab.research.google.com/github/Copenhagen1822/introdu-ao-ao-phyton/blob/main/Introdu%C3%A7%C3%A3o_a_Python.ipynb\" target=\"_parent\"><img src=\"https://colab.research.google.com/assets/colab-badge.svg\" alt=\"Open In Colab\"/></a>"
      ]
    },
    {
      "cell_type": "markdown",
      "source": [
        "## Aula 1"
      ],
      "metadata": {
        "id": "gse1tiizKQ2r"
      }
    },
    {
      "cell_type": "code",
      "source": [],
      "metadata": {
        "id": "dLt4CHE1IFmq"
      },
      "execution_count": null,
      "outputs": []
    },
    {
      "cell_type": "code",
      "execution_count": null,
      "metadata": {
        "colab": {
          "base_uri": "https://localhost:8080/"
        },
        "id": "7bl-GkGeG9J7",
        "outputId": "a50fb82d-10a2-4f49-dc05-3cf3c4daa06b"
      },
      "outputs": [
        {
          "output_type": "stream",
          "name": "stdout",
          "text": [
            "I Competição de Programação da Start\n"
          ]
        }
      ],
      "source": [
        "print (\"I Competição de Programação da Start\")"
      ]
    },
    {
      "cell_type": "code",
      "source": [
        "ano = \"II\"\n",
        "\n",
        "print(ano, \"Competição de Programação da Start\")"
      ],
      "metadata": {
        "colab": {
          "base_uri": "https://localhost:8080/"
        },
        "id": "4JshziM0IR5B",
        "outputId": "2072a269-f371-4f2c-8340-af4e8d799818"
      },
      "execution_count": null,
      "outputs": [
        {
          "output_type": "stream",
          "name": "stdout",
          "text": [
            "II Competição de Programação da Start\n"
          ]
        }
      ]
    },
    {
      "cell_type": "code",
      "source": [
        "print(f\"{ano} Competição de Programação da Start\")"
      ],
      "metadata": {
        "colab": {
          "base_uri": "https://localhost:8080/"
        },
        "id": "qpbh2nFhI689",
        "outputId": "2b2b7810-4a22-402a-a05d-12265293b7c3"
      },
      "execution_count": null,
      "outputs": [
        {
          "output_type": "stream",
          "name": "stdout",
          "text": [
            "II Competição de Programação da Start\n"
          ]
        }
      ]
    },
    {
      "cell_type": "markdown",
      "source": [
        "## Aula 2\n"
      ],
      "metadata": {
        "id": "kiSp5WZ-KZhb"
      }
    },
    {
      "cell_type": "markdown",
      "source": [
        "Uma escola está promovendo uma campanha de incentivo à leitura, em que cada estudante recebe pontos ao concluir livros. Esses pontos podem ser trocados por diferentes prêmios da escola, e as categorias de livros têm valores diferntes de pontos:\n",
        "\n",
        "Ficção: 8 pontos;\n",
        "Não ficção: 8 ponto;\n",
        "Infantis: 6 pontos.\n",
        "Rodrigo, um estudante dessa escola, leu um livro de cada categoria e, agora, quer saber quantos pontos acumulou com sua leitura. Para isso, você deve criar um programa em Python que tenha as seguintes características:\n",
        "\n",
        "Consiga armazenar os pontos de cada categoria de livro;\n",
        "Calcule os pontos de Rodrigo;\n",
        "Apresente na tela os pontos de Rodrigo."
      ],
      "metadata": {
        "id": "-1QQcVXGKuGB"
      }
    },
    {
      "cell_type": "code",
      "source": [
        "Livro_ficcao = 10\n",
        "Livro_nficcao = 8\n",
        "Livro_infantil = 6\n",
        "\n",
        "pontos_rodrigo = Livro_ficcao + Livro_nficcao + Livro_infantil\n",
        "\n",
        "print(f\"Os pontos totais do Rodrigo são: {pontos_rodrigo}\")"
      ],
      "metadata": {
        "colab": {
          "base_uri": "https://localhost:8080/"
        },
        "id": "07jqAseTLAdK",
        "outputId": "7a1b5bc7-7e07-4781-8dd1-61e596a84594"
      },
      "execution_count": null,
      "outputs": [
        {
          "output_type": "stream",
          "name": "stdout",
          "text": [
            "Os pontos totais do Rodrigo são: 24\n"
          ]
        }
      ]
    },
    {
      "cell_type": "markdown",
      "source": [
        "Ana, outra estudante dessa escola, participou da campanha e leu dois livros de ficção e cinco livros infantis. Para resolvê-lo, responda as seguintes perguntas programando em Python:\n",
        "\n",
        "Quantos pontos Ana acumulou ao final da leitura?\n",
        "Qual é o total de pontos acumulados por Rodrigo e Ana juntos?"
      ],
      "metadata": {
        "id": "t2bx4PH1M4AJ"
      }
    },
    {
      "cell_type": "code",
      "source": [
        "Livro_ficcao = 10\n",
        "Livro_infantil = 8\n",
        "\n",
        "pontos_ana = Livro_ficcao + Livro_infantil\n",
        "\n",
        "print(f\"Os pontos totais de Ana são: {pontos_ana}\")"
      ],
      "metadata": {
        "colab": {
          "base_uri": "https://localhost:8080/"
        },
        "id": "oz_Is-jMM_cY",
        "outputId": "f208f61f-9602-4aff-cbd2-1fda962c51a1"
      },
      "execution_count": null,
      "outputs": [
        {
          "output_type": "stream",
          "name": "stdout",
          "text": [
            "Os pontos totais de Ana são: 18\n"
          ]
        }
      ]
    },
    {
      "cell_type": "markdown",
      "source": [
        "## Aula 3"
      ],
      "metadata": {
        "id": "Gsdvqi2tNtKw"
      }
    },
    {
      "cell_type": "code",
      "source": [
        "total_figurinhas = int(input())\n",
        "numero_amigos = int(input())"
      ],
      "metadata": {
        "colab": {
          "base_uri": "https://localhost:8080/"
        },
        "id": "897vDAJGNucz",
        "outputId": "ba94f64f-b492-42d2-86d9-d7c2033c196a"
      },
      "execution_count": null,
      "outputs": [
        {
          "name": "stdout",
          "output_type": "stream",
          "text": [
            "100\n"
          ]
        }
      ]
    },
    {
      "cell_type": "markdown",
      "source": [],
      "metadata": {
        "id": "dQc8Npx4Tc1e"
      }
    },
    {
      "cell_type": "markdown",
      "source": [
        "#Aula 4\n",
        "\n",
        "A turma de um colégio está organizando uma excursão para a serra e, para chegar ao pico da montanha, todos os alunos e monitores devem usar um bondinho. No entanto, a cabine do bondinho tem uma capacidade máxima de 50 pessoas por viagem. Precisamos criar um programa que verifique se todos os alunos e monitores podem ser transportados em apenas uma viagem."
      ],
      "metadata": {
        "id": "6_dhdMLKTeJc"
      }
    },
    {
      "cell_type": "code",
      "source": [
        "numero_de_alunos = int(input(\"Digite a quantidade de alunos: \"))\n",
        "numero_de_monitores = int(input(\"Digite a quantidade de monitores: \"))\n",
        "resposta_positiva = \"sim, pode ir\"\n",
        "resposta_negativa = \"não pode ir\"\n",
        "\n",
        "if numero_de_alunos + numero_de_monitores <= 50:\n",
        "    print(resposta_positiva)\n",
        "else:\n",
        "    print(resposta_negativa)"
      ],
      "metadata": {
        "id": "zEPQNH7vTkKN"
      },
      "execution_count": null,
      "outputs": []
    },
    {
      "cell_type": "markdown",
      "source": [
        "Imagine que, infelizmente, o bondinho que carrega 50 pessoas está em manutenção. Agora, todos precisarão usar um bondinho menos sofisticado, que só pode levar 30 pessoas. Além disso, oito professores do colégio também participarão da excursão. Como garantimos que o número total de pessoas no bondinho, incluindo alunos, monitores e professores, não ultrapasse a capacidade máxima de 30 pessoas? O desafio é escrever um programa que verifique se é possível levar todos em apenas uma viagem."
      ],
      "metadata": {
        "id": "6U0PESQ6Tl-3"
      }
    },
    {
      "cell_type": "code",
      "source": [
        "numero_de_alunos = int(input(\"Digite a quantidade de alunos: \"))\n",
        "numero_de_monitores = int(input(\"Digite a quantidade de monitores: \"))\n",
        "resposta_positiva = \"sim, pode ir\"\n",
        "resposta_negativa = \"não pode ir\"\n",
        "\n",
        "if numero_de_alunos + numero_de_monitores <= 30:\n",
        "    print(resposta_positiva)\n",
        "else:\n",
        "    print(resposta_negativa)"
      ],
      "metadata": {
        "id": "Nc27ozQPToNF"
      },
      "execution_count": null,
      "outputs": []
    },
    {
      "cell_type": "markdown",
      "source": [
        "#Aula 5"
      ],
      "metadata": {
        "id": "o1U1yOlFTu_2"
      }
    },
    {
      "cell_type": "code",
      "source": [
        "p = int(input(\"Digite a posição da porta P (0 ou 1): \"))\n",
        "r = int(input(\"Digite a posição da porta R (0 ou 1): \"))\n",
        "\n",
        "if p == 0 and r == 0:\n",
        "    print(\"C\")\n",
        "elif p == 0 and r == 1:\n",
        "    print(\"C\")\n",
        "elif p == 1 and r == 1:\n",
        "    print(\"A\")\n",
        "else:\n",
        "    print(\"B\")"
      ],
      "metadata": {
        "id": "0kkq_dGST2Cm"
      },
      "execution_count": null,
      "outputs": []
    },
    {
      "cell_type": "markdown",
      "source": [
        "Imagine um caminho e uma porta adicionais. Continuamos com a porta P, que decide entre os caminhos iniciais, e a porta R, que ajusta o trajeto. Adicionamos a porta Q, que define se o caminho final incluirá a letra extra D quando estiver na posição 1. Estamos prontos para o desafio? A tentativa de resolução dos desafios é obrigatória, pois a junção de todos eles torna a entrega mais significativa."
      ],
      "metadata": {
        "id": "-H0pQ71CT3L3"
      }
    },
    {
      "cell_type": "code",
      "source": [
        "p = int(input(\"Digite a posição da porta P (0 ou 1): \"))\n",
        "r = int(input(\"Digite a posição da porta R (0 ou 1): \"))\n",
        "q = int(input(\"Digite a posição da porta D (1 ou 2): \"))\n",
        "\n",
        "if p == 0 and r == 0 and q == 0:\n",
        "    print(\"C\")\n",
        "elif p == 0 and r == 1 and q == 0:\n",
        "    print(\"C\")\n",
        "elif p == 1 and r == 1 and q == 1:\n",
        "    print(\"A\")\n",
        "elif p == 1 and r == 1 and q == 2:\n",
        "  print(\"D\")\n",
        "else:\n",
        "    print(\"B\")"
      ],
      "metadata": {
        "id": "ejLiM2qVT5DH",
        "outputId": "e52c5efc-60ee-44b5-dd71-26561ba446ec",
        "colab": {
          "base_uri": "https://localhost:8080/"
        }
      },
      "execution_count": 19,
      "outputs": [
        {
          "output_type": "stream",
          "name": "stdout",
          "text": [
            "Digite a posição da porta P (0 ou 1): 1\n",
            "Digite a posição da porta R (0 ou 1): 1\n",
            "Digite a posição da porta D (1 ou 2): 12\n",
            "B\n"
          ]
        }
      ]
    },
    {
      "cell_type": "markdown",
      "source": [
        "#Aula 6"
      ],
      "metadata": {
        "id": "WmP7gKM7T8WG"
      }
    },
    {
      "cell_type": "markdown",
      "source": [
        "proxima aula\n"
      ],
      "metadata": {
        "id": "vypBuSzuUiZ5"
      }
    }
  ]
}